{
 "cells": [
  {
   "cell_type": "code",
   "execution_count": 12,
   "metadata": {},
   "outputs": [],
   "source": [
    "import snowflake.connector\n",
    "import pandas as pd \n",
    "import seaborn as sns\n",
    "import matplotlib.pyplot as plt\n",
    "import yaml"
   ]
  },
  {
   "cell_type": "code",
   "execution_count": 13,
   "metadata": {},
   "outputs": [],
   "source": [
    "yaml_path = r\"C:\\Users\\Paul Tandazo\\Desktop\\PSET1-datamining\\tuberias-deber\\io_config.yaml\"\n",
    "with open(yaml_path, \"r\") as file:\n",
    "    config = yaml.safe_load(file)\n",
    "sf_config = config.get(\"default\", {})"
   ]
  },
  {
   "cell_type": "code",
   "execution_count": 14,
   "metadata": {},
   "outputs": [
    {
     "name": "stdout",
     "output_type": "stream",
     "text": [
      "Conectado a Snowflake - Versión: 9.2.8\n"
     ]
    }
   ],
   "source": [
    "# Conectar a Snowflake\n",
    "conn = snowflake.connector.connect(\n",
    "    user=sf_config[\"SNOWFLAKE_USER\"],\n",
    "    password=sf_config[\"SNOWFLAKE_PASSWORD\"],\n",
    "    account=sf_config[\"SNOWFLAKE_ACCOUNT\"],\n",
    "    warehouse=sf_config[\"SNOWFLAKE_DEFAULT_WH\"],\n",
    "    database=\"INSTACART_DB\",\n",
    "    schema=\"RAW\",\n",
    "    role=sf_config[\"SNOWFLAKE_ROLE\"]\n",
    ")\n",
    "\n",
    "cur = conn.cursor()\n",
    "cur.execute(\"SELECT CURRENT_VERSION()\")\n",
    "print(\"Conectado a Snowflake - Versión:\", cur.fetchone()[0])"
   ]
  },
  {
   "cell_type": "code",
   "execution_count": 15,
   "metadata": {},
   "outputs": [
    {
     "name": "stdout",
     "output_type": "stream",
     "text": [
      "AISLES\n",
      "DEPARTMENT\n",
      "INSTACART_ORDERS\n",
      "ORDER_PRODUCTS\n",
      "PRODUCTS\n"
     ]
    }
   ],
   "source": [
    "cur = conn.cursor()\n",
    "cur.execute(\"SHOW TABLES IN SCHEMA RAW\")\n",
    "tables = cur.fetchall()\n",
    "\n",
    "#Imprimir el nombre de las tablas disponibles en \"RAW\" \n",
    "for table in tables:\n",
    "    print(table[1])\n"
   ]
  },
  {
   "cell_type": "code",
   "execution_count": 33,
   "metadata": {},
   "outputs": [
    {
     "name": "stderr",
     "output_type": "stream",
     "text": [
      "C:\\Users\\Paul Tandazo\\AppData\\Local\\Temp\\ipykernel_9300\\1282710151.py:3: UserWarning: pandas only supports SQLAlchemy connectable (engine/connection) or database string URI or sqlite3 DBAPI2 connection. Other DBAPI2 objects are not tested. Please consider using SQLAlchemy.\n",
      "  num_rows = pd.read_sql_query(query_count, conn).iloc[0, 0]\n",
      "C:\\Users\\Paul Tandazo\\AppData\\Local\\Temp\\ipykernel_9300\\1282710151.py:7: UserWarning: pandas only supports SQLAlchemy connectable (engine/connection) or database string URI or sqlite3 DBAPI2 connection. Other DBAPI2 objects are not tested. Please consider using SQLAlchemy.\n",
      "  df_sample = pd.read_sql_query(query_columns, conn)\n"
     ]
    },
    {
     "name": "stdout",
     "output_type": "stream",
     "text": [
      "Dimensiones de la tabla ORDER_PRODUCTS: 4545007 filas, 4 columnas\n"
     ]
    }
   ],
   "source": [
    "table_name = 'ORDER_PRODUCTS' #Aquí solo hay que cambiar el nombre de la tabla que se requiera inspeccionar\n",
    "query_count = f\"SELECT COUNT(*) FROM {table_name}\"\n",
    "num_rows = pd.read_sql_query(query_count, conn).iloc[0, 0]\n",
    "\n",
    "# Consulta para obtener las columnas sin cargar toda la data\n",
    "query_columns = f\"SELECT * FROM {table_name} LIMIT 1\"\n",
    "df_sample = pd.read_sql_query(query_columns, conn)\n",
    "num_columns = df_sample.shape[1]\n",
    "print(f\"Dimensiones de la tabla {table_name}: {num_rows} filas, {num_columns} columnas\")"
   ]
  },
  {
   "cell_type": "code",
   "execution_count": 34,
   "metadata": {},
   "outputs": [
    {
     "name": "stderr",
     "output_type": "stream",
     "text": [
      "C:\\Users\\Paul Tandazo\\AppData\\Local\\Temp\\ipykernel_9300\\4195236253.py:2: UserWarning: pandas only supports SQLAlchemy connectable (engine/connection) or database string URI or sqlite3 DBAPI2 connection. Other DBAPI2 objects are not tested. Please consider using SQLAlchemy.\n",
      "  df = pd.read_sql(query, conn)\n"
     ]
    },
    {
     "name": "stdout",
     "output_type": "stream",
     "text": [
      "Dimensiones de la tabla ORDER_PRODUCTS: (4545007, 4)\n",
      "Estadísticos descriptivos:\n",
      "           order_id    product_id  add_to_cart_order     reordered\n",
      "count  4.545007e+06  4.545007e+06       4.544171e+06  4.545007e+06\n",
      "mean   1.711166e+06  2.558084e+04       8.351669e+00  5.905025e-01\n",
      "std    9.850955e+05  1.409552e+04       7.080368e+00  4.917411e-01\n",
      "min    4.000000e+00  1.000000e+00       1.000000e+00  0.000000e+00\n",
      "25%    8.608170e+05  1.353500e+04       3.000000e+00  0.000000e+00\n",
      "50%    1.711530e+06  2.527200e+04       6.000000e+00  1.000000e+00\n",
      "75%    2.561311e+06  3.793500e+04       1.100000e+01  1.000000e+00\n",
      "max    3.421079e+06  4.969400e+04       6.400000e+01  1.000000e+00\n",
      "\n",
      "Cantidad de valores únicos por columna:\n",
      "order_id             450046\n",
      "product_id            45573\n",
      "add_to_cart_order        64\n",
      "reordered                 2\n",
      "dtype: int64\n",
      "\n",
      "Valores mínimos por columna:\n",
      "order_id             4.0\n",
      "product_id           1.0\n",
      "add_to_cart_order    1.0\n",
      "reordered            0.0\n",
      "dtype: float64\n",
      "\n",
      "Valores máximos por columna:\n",
      "order_id             3421079.0\n",
      "product_id             49694.0\n",
      "add_to_cart_order         64.0\n",
      "reordered                  1.0\n",
      "dtype: float64\n"
     ]
    }
   ],
   "source": [
    "query = f\"SELECT * FROM {table_name}\"\n",
    "df = pd.read_sql(query, conn)\n",
    "\n",
    "# Ver las dimensiones del DataFrame\n",
    "print(f\"Dimensiones de la tabla {table_name}: {df.shape}\")\n",
    "\n",
    "# Ver estadísticos descriptivos de todas las columnas numéricas\n",
    "print(\"Estadísticos descriptivos:\")\n",
    "print(df.describe())\n",
    "\n",
    "# Verificar si hay muchas filas y valores únicos\n",
    "print(\"\\nCantidad de valores únicos por columna:\")\n",
    "print(df.nunique())\n",
    "\n",
    "# Verificar si los valores mínimos y máximos están bien calculados\n",
    "print(\"\\nValores mínimos por columna:\")\n",
    "print(df.min(numeric_only=True))\n",
    "\n",
    "print(\"\\nValores máximos por columna:\")\n",
    "print(df.max(numeric_only=True))\n"
   ]
  },
  {
   "cell_type": "code",
   "execution_count": 14,
   "metadata": {},
   "outputs": [
    {
     "data": {
      "image/png": "[encoded data removed]",
      "text/plain": [
       "<Figure size 1500x1000 with 1 Axes>"
      ]
     },
     "metadata": {},
     "output_type": "display_data"
    }
   ],
   "source": [
    "#Distribución\n",
    "df.hist(bins=50, figsize=(15, 10))\n",
    "plt.show()\n",
    "\n",
    "#sns.histplot(df['product_id'], kde=True)\n",
    "#plt.show()"
   ]
  },
  {
   "cell_type": "code",
   "execution_count": 35,
   "metadata": {},
   "outputs": [
    {
     "name": "stdout",
     "output_type": "stream",
     "text": [
      "                   Valores Nulos  Porcentaje\n",
      "order_id                       0    0.000000\n",
      "product_id                     0    0.000000\n",
      "add_to_cart_order            836    0.018394\n",
      "reordered                      0    0.000000\n"
     ]
    }
   ],
   "source": [
    "missing_values = df.isnull().sum()\n",
    "missing_percent = (missing_values / len(df)) * 100\n",
    "print(pd.DataFrame({'Valores Nulos': missing_values, 'Porcentaje': missing_percent}))"
   ]
  },
  {
   "cell_type": "code",
   "execution_count": 36,
   "metadata": {},
   "outputs": [
    {
     "name": "stdout",
     "output_type": "stream",
     "text": [
      "Cantidad de registros duplicados: 0\n",
      "\n",
      "Registros duplicados:\n",
      "Empty DataFrame\n",
      "Columns: [order_id, product_id, add_to_cart_order, reordered]\n",
      "Index: []\n"
     ]
    }
   ],
   "source": [
    "# Contar registros duplicados\n",
    "print(\"Cantidad de registros duplicados:\", df.duplicated().sum())\n",
    "\n",
    "# Mostrar solo los registros duplicados\n",
    "df_duplicados = df[df.duplicated(keep=False)]\n",
    "print(\"\\nRegistros duplicados:\")\n",
    "print(df_duplicados)\n",
    "\n",
    "# Eliminar duplicados (opcional)\n",
    "df_sin_duplicados = df.drop_duplicates()"
   ]
  },
  {
   "cell_type": "code",
   "execution_count": 31,
   "metadata": {},
   "outputs": [
    {
     "name": "stdout",
     "output_type": "stream",
     "text": [
      "Tipos de datos por columna:\n",
      "order_id                    int64\n",
      "user_id                     int64\n",
      "order_number                int64\n",
      "order_dow                   int64\n",
      "order_hour_of_day           int64\n",
      "days_since_prior_order    float64\n",
      "dtype: object\n"
     ]
    }
   ],
   "source": [
    "# Mostrar tipos de datos\n",
    "print(\"Tipos de datos por columna:\")\n",
    "print(df.dtypes)\n",
    "\n",
    "# Verificar si hay valores no numéricos en columnas numéricas\n",
    "for col in df.select_dtypes(include=['number']).columns:\n",
    "    if df[col].apply(lambda x: isinstance(x, (int, float))).all():\n",
    "        continue\n",
    "    else:\n",
    "        print(f\"\\nPosibles valores inconsistentes en '{col}':\")\n",
    "        print(df[~df[col].apply(lambda x: isinstance(x, (int, float)))][col])\n"
   ]
  },
  {
   "cell_type": "code",
   "execution_count": 37,
   "metadata": {},
   "outputs": [
    {
     "name": "stdout",
     "output_type": "stream",
     "text": [
      "\n",
      "Valores atípicos en 'order_id': 0 registros\n",
      "\n",
      "Valores atípicos en 'product_id': 0 registros\n",
      "\n",
      "Valores atípicos en 'add_to_cart_order': 190971 registros\n",
      "         add_to_cart_order\n",
      "4                     24.0\n",
      "9                     34.0\n",
      "19                    36.0\n",
      "35                    33.0\n",
      "86                    25.0\n",
      "...                    ...\n",
      "4544925               32.0\n",
      "4544926               25.0\n",
      "4544955               45.0\n",
      "4544986               24.0\n",
      "4545001               29.0\n",
      "\n",
      "[190971 rows x 1 columns]\n",
      "\n",
      "Valores atípicos en 'reordered': 0 registros\n"
     ]
    },
    {
     "data": {
      "image/png": "[encoded data removed]",
      "text/plain": [
       "<Figure size 1200x600 with 1 Axes>"
      ]
     },
     "metadata": {},
     "output_type": "display_data"
    }
   ],
   "source": [
    "import matplotlib.pyplot as plt\n",
    "\n",
    "# Definir umbrales de valores atípicos usando el rango intercuartílico (IQR)\n",
    "def detectar_atipicos(df, columna):\n",
    "    Q1 = df[columna].quantile(0.25)\n",
    "    Q3 = df[columna].quantile(0.75)\n",
    "    IQR = Q3 - Q1\n",
    "    limite_inferior = Q1 - 1.5 * IQR\n",
    "    limite_superior = Q3 + 1.5 * IQR\n",
    "    atipicos = df[(df[columna] < limite_inferior) | (df[columna] > limite_superior)]\n",
    "    return atipicos\n",
    "\n",
    "# Aplicar a todas las columnas numéricas\n",
    "for col in df.select_dtypes(include=['number']).columns:\n",
    "    atipicos = detectar_atipicos(df, col)\n",
    "    print(f\"\\nValores atípicos en '{col}': {len(atipicos)} registros\")\n",
    "    if not atipicos.empty:\n",
    "        print(atipicos[[col]])\n",
    "\n",
    "# Visualización de outliers con boxplot\n",
    "plt.figure(figsize=(12, 6))\n",
    "sns.boxplot(data=df.select_dtypes(include=['number']))\n",
    "plt.xticks(rotation=90)\n",
    "plt.show()"
   ]
  }
 ],
 "metadata": {
  "kernelspec": {
   "display_name": "entorno_1",
   "language": "python",
   "name": "python3"
  },
  "language_info": {
   "codemirror_mode": {
    "name": "ipython",
    "version": 3
   },
   "file_extension": ".py",
   "mimetype": "text/x-python",
   "name": "python",
   "nbconvert_exporter": "python",
   "pygments_lexer": "ipython3",
   "version": "3.10.13"
  }
 },
 "nbformat": 4,
 "nbformat_minor": 2
}
